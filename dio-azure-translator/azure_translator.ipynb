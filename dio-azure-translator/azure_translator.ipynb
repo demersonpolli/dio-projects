{
  "nbformat": 4,
  "nbformat_minor": 0,
  "metadata": {
    "colab": {
      "provenance": [],
      "toc_visible": true
    },
    "kernelspec": {
      "name": "python3",
      "display_name": "Python 3"
    },
    "language_info": {
      "name": "python"
    }
  },
  "cells": [
    {
      "cell_type": "markdown",
      "source": [
        "# Demonstração de tradução de texto usando o Azure"
      ],
      "metadata": {
        "id": "wbHjtcx0-2Fg"
      }
    },
    {
      "cell_type": "markdown",
      "source": [
        "Este tutorial apresenta um exemplod de como traduzir um texto usando o *Azure Translator* e o *Azure OpenAI*."
      ],
      "metadata": {
        "id": "kcMxk1Bj-1m5"
      }
    },
    {
      "cell_type": "markdown",
      "source": [
        "## Instalando os pacotes necessários."
      ],
      "metadata": {
        "id": "CrXPcBrh_DIa"
      }
    },
    {
      "cell_type": "code",
      "source": [
        "%%capture\n",
        "!pip install requests python-docx\n",
        "!pip install beautifulsoup4 openai langchain-openai"
      ],
      "metadata": {
        "id": "ywaPbMArwiZ3"
      },
      "execution_count": 1,
      "outputs": []
    },
    {
      "cell_type": "markdown",
      "source": [
        "## Azure Translator Service"
      ],
      "metadata": {
        "id": "5mNwHOoe_WC_"
      }
    },
    {
      "cell_type": "markdown",
      "source": [
        "### Definindo a configuração do Azure Translator service"
      ],
      "metadata": {
        "id": "06zDup3k_Gax"
      }
    },
    {
      "cell_type": "markdown",
      "source": [
        "Preencha os parâmetros abaixo com a configuração do seu serviço *Azure Translator*. É necessário criar o serviço anteriormente no site do [Azure](https://azure.microsoft.com) e copiar a chave."
      ],
      "metadata": {
        "id": "7DZbqyct_d3w"
      }
    },
    {
      "cell_type": "code",
      "source": [
        "import requests\n",
        "import os\n",
        "from docx import Document\n",
        "\n",
        "# Insert here an API KEY for the Azure Translator service.\n",
        "subscription_key = \"AZURE_TRANSLATOR_KEY\"\n",
        "endpoint = \"https://api.cognitive.microsofttranslator.com\"\n",
        "location = \"eastus\"\n",
        "target_language =\"pt-br\""
      ],
      "metadata": {
        "id": "ixjl6rz5xhnP"
      },
      "execution_count": 2,
      "outputs": []
    },
    {
      "cell_type": "code",
      "source": [
        "def translate_text(text, target_language = 'pt-br'):\n",
        "  path = '/translate'\n",
        "  constructed_url = endpoint + path\n",
        "\n",
        "  headers = {\n",
        "      'Ocp-Apim-Subscription-Key': subscription_key,\n",
        "      'Ocp-Apim-Subscription-Region': location,\n",
        "      'Content-type': 'application/json',\n",
        "      'X-ClientTraceId': str(os.urandom(16))\n",
        "  }\n",
        "\n",
        "  body = [{\n",
        "      'text': text\n",
        "  }]\n",
        "\n",
        "  params = {\n",
        "      'api-version': '3.0',\n",
        "      'from': 'en',\n",
        "      'to': target_language\n",
        "  }\n",
        "\n",
        "  request = requests.post(constructed_url, params = params, headers=headers, json=body)\n",
        "  response = request.json()\n",
        "  return response[0][\"translations\"][0][\"text\"]\n",
        ""
      ],
      "metadata": {
        "id": "dCkhwWDjy3pW"
      },
      "execution_count": 3,
      "outputs": []
    },
    {
      "cell_type": "markdown",
      "source": [
        "### Simples teste do tradutor"
      ],
      "metadata": {
        "id": "D1eHULhC_xgo"
      }
    },
    {
      "cell_type": "code",
      "execution_count": 4,
      "metadata": {
        "colab": {
          "base_uri": "https://localhost:8080/",
          "height": 35
        },
        "id": "zWpNndlewcjN",
        "outputId": "1cf9be0b-60fc-44fa-b8d0-770e8e1fa0a3"
      },
      "outputs": [
        {
          "output_type": "execute_result",
          "data": {
            "text/plain": [
              "'Uma alma em tensão, aprendendo a voar.'"
            ],
            "application/vnd.google.colaboratory.intrinsic+json": {
              "type": "string"
            }
          },
          "metadata": {},
          "execution_count": 4
        }
      ],
      "source": [
        "translate_text(\"A soul in tension, learning to fly.\")"
      ]
    },
    {
      "cell_type": "markdown",
      "source": [
        "### Tradução de um documento."
      ],
      "metadata": {
        "id": "0Olai1Pc_2Xw"
      }
    },
    {
      "cell_type": "markdown",
      "source": [
        "A função abaixo recebe o endereço de um documento em formado Word. Carregue um documento em seu ambiente do Colab para executar o exemplo."
      ],
      "metadata": {
        "id": "lVubiYg1_2Cg"
      }
    },
    {
      "cell_type": "code",
      "source": [
        "def translate_document(path):\n",
        "  document = Document(path)\n",
        "  full_text = []\n",
        "  for paragraph in document.paragraphs:\n",
        "    translated_text = translate_text(paragraph.text)\n",
        "    full_text.append(translated_text)\n",
        "\n",
        "    translated_doc = Document()\n",
        "    for line in full_text:\n",
        "      translated_doc.add_paragraph(line)\n",
        "      path_translated = path.replace(\".docx\", f\"-{target_language}.docx\")\n",
        "    translated_doc.save(path_translated)\n",
        "  return full_text"
      ],
      "metadata": {
        "id": "Q-md02CL1dWO"
      },
      "execution_count": 5,
      "outputs": []
    },
    {
      "cell_type": "code",
      "source": [
        "translate_document(\"/content/learning-fly.docx\")"
      ],
      "metadata": {
        "colab": {
          "base_uri": "https://localhost:8080/"
        },
        "id": "HOopqEuA2483",
        "outputId": "5d367ae6-533c-490b-fc07-1eee2772e5d1"
      },
      "execution_count": 6,
      "outputs": [
        {
          "output_type": "execute_result",
          "data": {
            "text/plain": [
              "['À distância, uma fita preta',\n",
              " 'Esticado ao ponto de não voltar atrás',\n",
              " 'Um vôo de fantasia em um campo varrido pelo vento',\n",
              " 'De pé sozinho meus sentidos reais',\n",
              " 'Uma atração fatal me segurando rápido como',\n",
              " 'Posso escapar desse aperto irresistível?',\n",
              " '',\n",
              " 'Não consigo tirar meus olhos dos céus circulantes',\n",
              " 'Língua presa e torcida',\n",
              " 'Apenas um desajustado ligado à terra, eu',\n",
              " '',\n",
              " 'O gelo está se formando nas pontas das minhas asas',\n",
              " 'Avisos ignorados',\n",
              " 'Eu pensei que pensei em tudo',\n",
              " 'Nenhum navegador para encontrar meu caminho de casa',\n",
              " 'Sem chumbo, vazio e transformado em pedra',\n",
              " 'Uma alma em tensão que está aprendendo a voar',\n",
              " 'Condição aterrada, mas determinada a tentar',\n",
              " '',\n",
              " 'Não consigo tirar meus olhos dos céus circulantes',\n",
              " 'Língua presa e torcida',\n",
              " 'Apenas um desajustado ligado à terra, eu',\n",
              " '',\n",
              " 'Acima do planeta em uma asa e uma oração',\n",
              " 'Minha auréola suja, um rastro de vapor no ar vazio',\n",
              " 'Através das nuvens eu vejo minha sombra voar',\n",
              " 'Fora do canto do meu olho lacrimejante',\n",
              " '',\n",
              " 'Um sonho não ameaçado pela luz da manhã',\n",
              " 'Poderia explodir essa alma',\n",
              " 'Através do telhado da noite',\n",
              " 'Não há sensação para comparar com isso',\n",
              " 'Animação suspensa, um estado de felicidade',\n",
              " '',\n",
              " 'Não consigo manter minha mente longe dos céus circulantes',\n",
              " 'Língua presa e torcida',\n",
              " 'Apenas um desajustado ligado à terra, eu']"
            ]
          },
          "metadata": {},
          "execution_count": 6
        }
      ]
    },
    {
      "cell_type": "markdown",
      "source": [
        "## Azure OpenAI Service"
      ],
      "metadata": {
        "id": "-b1fmAVbADNQ"
      }
    },
    {
      "cell_type": "markdown",
      "source": [
        "### Carregando o conteúdo de um site."
      ],
      "metadata": {
        "id": "aSMwVt3CArhI"
      }
    },
    {
      "cell_type": "markdown",
      "source": [
        "Esta função carrega o conteudo de uma página web e faz uma limpeza removendo os comandos. O retorno é o texto da página."
      ],
      "metadata": {
        "id": "x0zbXuA7AD_Y"
      }
    },
    {
      "cell_type": "code",
      "source": [
        "import requests\n",
        "from bs4 import BeautifulSoup\n",
        "\n",
        "def extract_text_from_url(url):\n",
        "  response = requests.get(url)\n",
        "\n",
        "  if response.status_code == 200:\n",
        "    soup = BeautifulSoup(response.text, 'html.parser')\n",
        "    for script_or_style in soup([\"script\", \"style\"]):\n",
        "      script_or_style.decompose()\n",
        "\n",
        "    text = soup.get_text(separator=' ')\n",
        "    lines = (line.strip() for line in text.splitlines())\n",
        "    chunks = (phrase.strip() for line in lines for phrase in line.split(\"  \"))\n",
        "    text = '\\n'.join(chunk for chunk in chunks if chunk)\n",
        "\n",
        "    return text\n",
        "  else:\n",
        "    print(f\"Failed to retrieve the page. Status code: {response.status_code}\")\n",
        "    return None\n",
        "\n",
        "extract_text_from_url(\"https://www.nasa.gov\")"
      ],
      "metadata": {
        "colab": {
          "base_uri": "https://localhost:8080/",
          "height": 122
        },
        "id": "GVMKzt943rfX",
        "outputId": "8c53b743-b5af-4173-dd17-ed0ab8c4327e"
      },
      "execution_count": 7,
      "outputs": [
        {
          "output_type": "execute_result",
          "data": {
            "text/plain": [
              "\"NASA\\nExplore\\nSearch\\nNews & Events\\nNews & Events\\nAll NASA News\\nVideo Series on NASA+\\nPodcasts\\nBlogs\\nNewsletters\\nSocial Media\\nMedia Resources\\nEvents\\nUpcoming Launches & Landings\\nVirtual Guest Program\\nMultimedia\\nMultimedia\\nNASA+\\nImages\\nNASA Live\\nNASA Apps\\nPodcasts\\nImage of the Day\\ne-Books\\nSounds and Ringtones\\nInteractives\\nSTEM Multimedia\\nNASA+\\nSearch\\nSuggested Searches\\nClimate Change\\nArtemis\\nExpedition 64\\nMars perseverance\\nSpaceX Crew-2\\nInternational Space Station\\nView All Topics A-Z\\nHome Missions Humans in Space Earth & Climate The Solar System The Universe Science Aeronautics Technology Learning Resources About NASA Español\\nNews & Events\\nMultimedia\\nNASA+\\nFeatured 6 min read NASA’s Hubble, Webb Probe Surprisingly Smooth Disk Around Vega article 5 days ago 5 min read NASA, Bhutan Conclude Five Years of Teamwork on STEM, Sustainability article 2 days ago 5 min read What’s Up: November 2024 Skywatching Tips from NASA article 5 days ago\\nBack\\nMissions Search All NASA Missions A to Z List of Missions Upcoming Launches and Landings Spaceships and Rockets Communicating with Missions Artemis James Webb Space Telescope Hubble Space Telescope International Space Station OSIRIS-Rex Humans in Space Why Go to Space Astronauts Commercial Space Destinations Spaceships and Rockets Living in Space Earth & Climate Explore Earth Science Climate Change Earth, Our Planet Earth Science in Action Earth Multimedia Earth Data Earth Science Researchers The Solar System The Sun Mercury Venus Earth The Moon Mars Jupiter Saturn Uranus Neptune Pluto & Dwarf Planets Asteroids, Comets & Meteors The Kuiper Belt The Oort Cloud Skywatching The Universe Exoplanets The Search for Life in the Universe Stars Galaxies Black Holes The Big Bang Dark Energy & Dark Matter Science Earth Science Planetary Science Astrophysics & Space Science The Sun & Heliophysics Biological & Physical Sciences Lunar Science Citizen Science Astromaterials Aeronautics Research Human Space Travel Research Aeronautics Science in the Air NASA Aircraft Flight Innovation Supersonic Flight Air Traffic Solutions Green Aviation Tech Drones & You Technology Technology Transfer & Spinoffs Space Travel Technology Technology Living in Space Manufacturing and Materials Robotics Science Instruments Computing Learning Resources For Kids and Students For Educators For Colleges and Universities For Professionals Science for Everyone Requests for Exhibits, Artifacts, or Speakers STEM Engagement at NASA About NASA NASA's Impacts Centers and Facilities Directorates Organizations People of NASA Careers Internships Our History Doing Business with NASA Get Involved Contact NASA en Español Ciencia Aeronáutica Ciencias Terrestres Sistema Solar Universo News & Events All NASA News Video Series on NASA+ Podcasts Blogs Newsletters Social Media Media Resources Events Upcoming Launches & Landings Virtual Guest Program Multimedia NASA+ Images NASA Live NASA Apps Podcasts Image of the Day e-Books Sounds and Ringtones Interactives STEM Multimedia\\nFeatured\\n5 min read\\nStill Kickin’ Since the ’70s: NASA’s Voyager Mission Keeps Exploring\\narticle\\n2 days ago\\n4 min read\\nFinal Venus Flyby for NASA’s Parker Solar Probe Queues Closest Sun Pass\\narticle\\n2 days ago\\n6 min read\\nNASA’s Hubble, Webb Probe Surprisingly Smooth Disk Around Vega\\narticle\\n5 days ago\\nHighlights\\n3 min read\\nDo You Have Proposals for New Human Research Studies Benefiting Spaceflight?\\narticle\\n2 days ago\\n2 min read\\nResearch Operations and Integration\\narticle\\n6 days ago\\n5 min read\\nWe Are All Made of Cells: Space and the Immune System\\narticle\\n6 days ago\\nHighlights\\n5 min read\\nNASA, Bhutan Conclude Five Years of Teamwork on STEM, Sustainability\\narticle\\n2 days ago\\n4 min read\\nInternational SWOT Satellite Spots Planet-Rumbling Greenland Tsunami\\narticle\\n6 days ago\\n5 min read\\nNASA, NOAA Rank 2024 Ozone Hole as 7th-Smallest Since Recovery Began\\narticle\\n1 week ago\\nHighlights\\n4 min read\\nFinal Venus Flyby for NASA’s Parker Solar Probe Queues Closest Sun Pass\\narticle\\n2 days ago\\n2 min read\\nNASA’s New Edition of Graphic Novel Features Europa Clipper\\narticle\\n5 days ago\\n5 min read\\n30 Years On, NASA’s Wind Is a Windfall for Studying our Neighborhood in Space\\narticle\\n5 days ago\\nFeatured\\n6 min read\\nNASA’s Hubble, Webb Probe Surprisingly Smooth Disk Around Vega\\narticle\\n5 days ago\\n6 min read\\nWhy NASA’s SPHEREx Mission Will Make ‘Most Colorful’ Cosmic Map Ever\\narticle\\n6 days ago\\n5 min read\\n‘Blood-Soaked’ Eyes: NASA’s Webb, Hubble Examine Galaxy Pair\\narticle\\n6 days ago\\nHighlights\\n2 min read\\n10 Things to Know About Tissue Chips and How They Benefit Humanity\\narticle\\n5 hours ago\\n3 min read\\nBundling the Best of Heliophysics Education: DigiKits for Physics and Astronomy Teachers\\narticle\\n23 hours ago\\n1 min read\\nAmendment 63: FINESST: SMD’s Graduate Student Research, Final Text and Due Date Released.\\narticle\\n24 hours ago\\nHighlights\\n4 min read\\nX-59 Fires Up its Engine for First Time on Its Way to Takeoff\\narticle\\n2 hours ago\\n2 min read\\nNASA Brings Drone and Space Rover to Air Show\\narticle\\n1 week ago\\n3 min read\\nNASA and Partners Scaling to New Heights\\xa0in Air Traffic Management\\narticle\\n3 weeks ago\\nHighlights\\n5 min read\\nFrom Campus to Cosmos: NASA Grants Boost Student, University Innovation\\narticle\\n1 day ago\\n2 min read\\nFrom Mars Rovers to Factory Assembly Lines\\narticle\\n5 days ago\\n4 min read\\nNASA Technologies Named Among TIME Inventions of 2024\\narticle\\n1 week ago\\nFeatured\\n5 min read\\nNASA Knows – How Can I Get Involved With NASA Research?\\narticle\\n2 hours ago\\nFeatured\\n5 min read\\nFrom Campus to Cosmos: NASA Grants Boost Student, University Innovation\\narticle\\n1 day ago\\n5 min read\\nStill Kickin’ Since the ’70s: NASA’s Voyager Mission Keeps Exploring\\narticle\\n2 days ago\\nHighlights\\n4 min read\\nEl X-59 enciende su motor por primera vez rumbo al despegue\\narticle\\n1 hour ago\\n3 min read\\nLa NASA lleva un dron y un rover espacial a un espectáculo aéreo\\narticle\\n1 week ago\\n4 min read\\nDestacado de la NASA: Felipe Valdez, un ingeniero inspirador\\narticle\\n2 weeks ago\\nFull-Stream Ahead\\nNASA TV has become NASA+. Now, you can watch live and original programming on the agency’s new, free streaming platform.\\nUpcoming Live Events\\nNASA+ SERIES\\nFar Out\\nNASA+ SERIES\\nOur Alien Earth\\nNASA+ DOCUMENTARY\\nTo an Asteroid and Back\\nFeatured News\\nMore NASA News\\nNews Release 2 Min Read NASA’s SpaceX Crew-8 Astronauts to Discuss Science Mission Article 4 Min Read X-59 Fires Up its Engine for First Time on Its Way to Takeoff\\nNews Release 2 Min Read NASA Science, Cargo Launch on 31st SpaceX Resupply Mission to Station Article 5 Min Read 30 Years On, NASA’s Wind Is a Windfall for Studying our Neighborhood in Space\\n6 Min Read NASA’s Hubble, Webb Probe Surprisingly Smooth Disk Around Vega Article\\n6 Min Read Why NASA’s SPHEREx Mission Will Make ‘Most Colorful’ Cosmic Map Ever Article\\n3 Min Read Buckle Up: NASA-Funded Study Explores Turbulence in Molecular Clouds Article\\n3 Min Read November’s Night Sky Notes: Snowballs from Space Article\\nFeatured Video\\nWhat’s Up?\\nThis month, catch planetary views of Saturn, Jupiter, and Mars; witness a close pass of the Parker Solar Probe by Venus; and get ready for an occultation of the bright star Spica by the Moon.\\nNASA Skywatching Tips\\nThe Solar System\\nDiscover More\\nPlanets Moons Asteroids, Comets & Meteors Skywatching\\nEarth Information Center\\nFor more than 50 years, NASA satellites have provided data on Earth's land, water, air, temperature, and climate. NASA's Earth Information Center allows visitors to see how our planet is changing in six key areas: sea level rise and coastal impacts, health and air quality, wildfires, greenhouse gases, sustainable energy, and agriculture.\\nStart Exploring\\nabout Earth Information Center\\nToday\\nImage Of The Day\\nContract Specialist Miranda Meyer\\n“[Now that I work for Safety and Mission Assurance,] it’s really cool to read everything about the different types of the scenarios. I always get to see the task orders and the type of work that is going on to keep people safe on the ground and in the air.” — Miranda Meyer, Contract Specialist, NASA’s Goddard Space Flight Center\\nBrowse Image Archive\\nToday\\nImage Of The Day\\nView image\\nMore NASA Images\\nNative American Heritage Month Gallery 34 Images Astronaut Selfies Gallery 20 Images Artemis II Gallery 41 Images\\nAbout NASA\\nAffirming Native Voices\\nEach November, NASA commemorates National Native American Heritage Month by celebrating the traditions, languages, stories, and cultures of Indigenous peoples who have shaped our country since before its beginning. We are proud to honor Indigenous communities and their contributions to NASA’s mission.\\nNative American Heritage Month\\nabout Affirming Native Voices\\nAstronaut John B. Herrington, STS-113 mission specialist, traverses along a truss on the International Space Station during the mission’s third spacewalk.\\nExplore the Universe from your Inbox\\nStay up-to-date on the latest news from NASA–from Earth to the Moon, the Solar System and beyond.\\nWe will never share your email address. Privacy Policy\\nSign Up\\nMore Topics from NASA\\nMissions Humans In Space Climate Change Our Solar System Universe Science News Aeronautics Technology\\nNational Aeronautics and Space Administration\\nNASA explores the unknown in air and space, innovates for the benefit of humanity, and inspires the world through discovery.\\nAbout NASA's Mission\\nJoin Us\\nHome\\nNews & Events\\nMultimedia\\nNASA+\\nMissions\\nHumans in Space\\nEarth & Climate\\nThe Solar System\\nThe Universe\\nScience\\nAeronautics\\nTechnology\\nLearning Resources\\nAbout NASA\\nNASA en Español\\nFollow NASA\\nMore NASA Social Accounts\\nNASA Newsletters\\nSitemap\\nFor Media\\nPrivacy Policy\\nFOIA\\nNo FEAR Act\\nOffice of the IG\\nBudget & Annual Reports\\nAgency Financial Reports\\nContact NASA\\nAccessibility\\nPage Last Updated:\\nNov 06, 2024\\nPage Editor:\\nDacia Massengill\\nResponsible NASA Official:\\nAbigail Bowman\""
            ],
            "application/vnd.google.colaboratory.intrinsic+json": {
              "type": "string"
            }
          },
          "metadata": {},
          "execution_count": 7
        }
      ]
    },
    {
      "cell_type": "markdown",
      "source": [
        "### Configurando o Langchain para acessar o Azure OpenAI Service."
      ],
      "metadata": {
        "id": "Nlw4KKWEAuaQ"
      }
    },
    {
      "cell_type": "markdown",
      "source": [
        "A função abaixo faz a chamada do *Azure OpenAI Service*. Para utilizar é preciso provisionar um serviço no portal Azure e preencher as informações faltantes."
      ],
      "metadata": {
        "id": "dC0jf4-1AT2A"
      }
    },
    {
      "cell_type": "code",
      "source": [
        "from langchain_openai.chat_models.azure import AzureChatOpenAI\n",
        "\n",
        "def translate_article(text, target_language = 'português'):\n",
        "  client = AzureChatOpenAI(\n",
        "      # Insert your Azure OpenAI service end-point.\n",
        "      azure_endpoint = 'https://END-POINT.openai.azure.com/',\n",
        "      # Insert your Azure OpenAI Service key.\n",
        "      api_key = 'AZURE OPENAI SERVICE KEY',\n",
        "      api_version = '2024-02-15-preview',\n",
        "      deployment_name = 'gpt-4o-mini',\n",
        "      max_retries= 0\n",
        "  )\n",
        "\n",
        "  messages = [\n",
        "      (\"system\", \"Você atua como um  tradutor de textos.\"),\n",
        "      (\"user\", f\"Traduza o {text} para o idioma {target_language} e responda em markdown.\")\n",
        "  ]\n",
        "\n",
        "  client.invoke(messages)\n",
        "\n",
        "  response = client.invoke(messages)\n",
        "  print(response.content)\n",
        "  return response.content\n",
        "\n",
        "translate_article(\"A soul in tension, learning to fly.\")"
      ],
      "metadata": {
        "colab": {
          "base_uri": "https://localhost:8080/",
          "height": 87
        },
        "id": "8Re-g-n16Kmv",
        "outputId": "6e2a28e6-fb5b-4be3-f3ce-35c7cee0c4f9"
      },
      "execution_count": 8,
      "outputs": [
        {
          "output_type": "stream",
          "name": "stdout",
          "text": [
            "```markdown\n",
            "Uma alma em tensão, aprendendo a voar.\n",
            "```\n"
          ]
        },
        {
          "output_type": "execute_result",
          "data": {
            "text/plain": [
              "'```markdown\\nUma alma em tensão, aprendendo a voar.\\n```'"
            ],
            "application/vnd.google.colaboratory.intrinsic+json": {
              "type": "string"
            }
          },
          "metadata": {},
          "execution_count": 8
        }
      ]
    },
    {
      "cell_type": "markdown",
      "source": [
        "### Testando com um site"
      ],
      "metadata": {
        "id": "KY1e1YP6AmOo"
      }
    },
    {
      "cell_type": "code",
      "source": [
        "url = \"https://www.nasa.gov\"\n",
        "text = extract_text_from_url(url)\n",
        "article = translate_article(text)\n",
        "\n",
        "print(article)"
      ],
      "metadata": {
        "colab": {
          "base_uri": "https://localhost:8080/"
        },
        "id": "tAdWkZp19hgg",
        "outputId": "498717ec-5512-412e-ed1d-2fc43c4b1804"
      },
      "execution_count": 9,
      "outputs": [
        {
          "output_type": "stream",
          "name": "stdout",
          "text": [
            "# NASA\n",
            "\n",
            "## Explorar\n",
            "- Busca\n",
            "- Notícias e Eventos\n",
            "- Todas as Notícias da NASA\n",
            "- Série de Vídeos no NASA+\n",
            "- Podcasts\n",
            "- Blogs\n",
            "- Newsletters\n",
            "- Mídias Sociais\n",
            "- Recursos para Mídia\n",
            "- Eventos\n",
            "- Lançamentos e Aterrissagens Futuros\n",
            "- Programa de Convidados Virtuais\n",
            "- Multimídia\n",
            "\n",
            "### Multimídia\n",
            "- NASA+\n",
            "- Imagens\n",
            "- NASA Ao Vivo\n",
            "- Aplicativos da NASA\n",
            "- Podcasts\n",
            "- Imagem do Dia\n",
            "- e-Books\n",
            "- Sons e Toques\n",
            "- Interativos\n",
            "- Multimídia STEM\n",
            "\n",
            "## Pesquisa\n",
            "- Pesquisas Sugeridas\n",
            "  - Mudanças Climáticas\n",
            "  - Artemis\n",
            "  - Expedição 64\n",
            "  - Perseverança em Marte\n",
            "  - SpaceX Crew-2\n",
            "  - Estação Espacial Internacional\n",
            "- Ver Todos os Tópicos de A a Z\n",
            "\n",
            "## Início\n",
            "- Missões\n",
            "- Humanos no Espaço\n",
            "- Terra e Clima\n",
            "- O Sistema Solar\n",
            "- O Universo\n",
            "- Ciência\n",
            "- Aeronáutica\n",
            "- Tecnologia\n",
            "- Recursos de Aprendizagem\n",
            "- Sobre a NASA\n",
            "- Español\n",
            "\n",
            "## Destaques\n",
            "### 6 min de leitura\n",
            "- [NASA's Hubble, Webb Probe Surprisingly Smooth Disk Around Vega](#) - artigo há 5 dias\n",
            "### 5 min de leitura\n",
            "- [NASA, Bhutan Conclude Five Years of Teamwork on STEM, Sustainability](#) - artigo há 2 dias\n",
            "### 5 min de leitura\n",
            "- [What’s Up: November 2024 Skywatching Tips from NASA](#) - artigo há 5 dias\n",
            "\n",
            "## Missões\n",
            "- Pesquisar Todas as Missões da NASA\n",
            "- Lista de Missões de A a Z\n",
            "- Lançamentos e Aterrissagens Futuros\n",
            "- Naves Espaciais e Foguetes\n",
            "- Comunicação com Missões\n",
            "\n",
            "## Vida no Espaço\n",
            "- Por que Ir ao Espaço\n",
            "- Astronautas\n",
            "- Destinos Espaciais Comerciais\n",
            "- Naves Espaciais e Foguetes\n",
            "- Vivendo no Espaço\n",
            "\n",
            "## Terra e Clima\n",
            "- Explorar a Ciência da Terra\n",
            "- Mudanças Climáticas\n",
            "- Terra, Nosso Planeta\n",
            "- Ciência da Terra em Ação\n",
            "- Dados da Terra\n",
            "- Pesquisadores de Ciência da Terra\n",
            "\n",
            "## O Sistema Solar\n",
            "- O Sol\n",
            "- Mercúrio\n",
            "- Vênus\n",
            "- Terra\n",
            "- A Lua\n",
            "- Marte\n",
            "- Júpiter\n",
            "- Saturno\n",
            "- Urano\n",
            "- Netuno\n",
            "- Plutão e Planetas Anões\n",
            "- Asteroides, Cometas e Meteoros\n",
            "- O Cinturão de Kuiper\n",
            "- A Nuvem de Oort\n",
            "- Observação do Céu\n",
            "\n",
            "## O Universo\n",
            "- Exoplanetas\n",
            "- A Busca por Vida no Universo\n",
            "- Estrelas\n",
            "- Galáxias\n",
            "- Buracos Negros\n",
            "- O Big Bang\n",
            "- Energia Escura e Matéria Escura\n",
            "\n",
            "## Ciência\n",
            "- Ciência da Terra\n",
            "- Ciência Planetária\n",
            "- Astrofísica e Ciência Espacial\n",
            "- O Sol e Heliofísica\n",
            "- Ciências Biológicas e Físicas\n",
            "- Ciência Lunar\n",
            "- Ciência Cidadã\n",
            "- Astromateriais\n",
            "\n",
            "## Aeronáutica\n",
            "- Pesquisa em Aeronáutica\n",
            "- Viagens Espaciais Humanas\n",
            "- Ciência Aeronáutica no Ar\n",
            "- Inovação em Voo\n",
            "- Soluções de Tráfego Aéreo\n",
            "- Tecnologias de Aviação Verde\n",
            "- Drones e Você\n",
            "\n",
            "## Tecnologia\n",
            "- Transferência de Tecnologia e Spin-offs\n",
            "- Tecnologia de Viagem Espacial\n",
            "- Tecnologia de Vida no Espaço\n",
            "- Fabricação e Materiais\n",
            "- Robótica\n",
            "- Instrumentos Científicos\n",
            "- Computação\n",
            "\n",
            "## Recursos de Aprendizagem\n",
            "- Para Crianças e Estudantes\n",
            "- Para Educadores\n",
            "- Para Faculdades e Universidades\n",
            "- Para Profissionais\n",
            "- Ciência para Todos\n",
            "- Solicitações para Exposições, Artefatos ou Palestrantes\n",
            "- Engajamento STEM na NASA\n",
            "\n",
            "## Sobre a NASA\n",
            "- Impactos da NASA\n",
            "- Centros e Instalações\n",
            "- Diretorias\n",
            "- Organizações\n",
            "- Pessoas da NASA\n",
            "- Carreiras\n",
            "- Estágios\n",
            "- Nossa História\n",
            "- Negócios com a NASA\n",
            "- Fique Envolvido\n",
            "- Contato com a NASA\n",
            "\n",
            "## Mês da Herança Nativa Americana\n",
            "- Cada novembro, a NASA comemora o Mês Nacional da Herança Nativa Americana celebrando as tradições, idiomas, histórias e culturas dos povos indígenas.\n",
            "\n",
            "## Assine\n",
            "- Explore o Universo a partir da sua Caixa de Entrada\n",
            "- Fique por dentro das últimas notícias da NASA - da Terra à Lua, o Sistema Solar e além.\n",
            "\n",
            "**Nota:** Nunca compartilharemos seu endereço de e-mail. Política de Privacidade.\n",
            "\n",
            "## NASA\n",
            "A NASA explora o desconhecido no ar e no espaço, inova para o benefício da humanidade e inspira o mundo por meio da descoberta.\n",
            "# NASA\n",
            "\n",
            "## Explorar\n",
            "- Busca\n",
            "- Notícias e Eventos\n",
            "- Todas as Notícias da NASA\n",
            "- Série de Vídeos no NASA+\n",
            "- Podcasts\n",
            "- Blogs\n",
            "- Newsletters\n",
            "- Mídias Sociais\n",
            "- Recursos para Mídia\n",
            "- Eventos\n",
            "- Lançamentos e Aterrissagens Futuros\n",
            "- Programa de Convidados Virtuais\n",
            "- Multimídia\n",
            "\n",
            "### Multimídia\n",
            "- NASA+\n",
            "- Imagens\n",
            "- NASA Ao Vivo\n",
            "- Aplicativos da NASA\n",
            "- Podcasts\n",
            "- Imagem do Dia\n",
            "- e-Books\n",
            "- Sons e Toques\n",
            "- Interativos\n",
            "- Multimídia STEM\n",
            "\n",
            "## Pesquisa\n",
            "- Pesquisas Sugeridas\n",
            "  - Mudanças Climáticas\n",
            "  - Artemis\n",
            "  - Expedição 64\n",
            "  - Perseverança em Marte\n",
            "  - SpaceX Crew-2\n",
            "  - Estação Espacial Internacional\n",
            "- Ver Todos os Tópicos de A a Z\n",
            "\n",
            "## Início\n",
            "- Missões\n",
            "- Humanos no Espaço\n",
            "- Terra e Clima\n",
            "- O Sistema Solar\n",
            "- O Universo\n",
            "- Ciência\n",
            "- Aeronáutica\n",
            "- Tecnologia\n",
            "- Recursos de Aprendizagem\n",
            "- Sobre a NASA\n",
            "- Español\n",
            "\n",
            "## Destaques\n",
            "### 6 min de leitura\n",
            "- [NASA's Hubble, Webb Probe Surprisingly Smooth Disk Around Vega](#) - artigo há 5 dias\n",
            "### 5 min de leitura\n",
            "- [NASA, Bhutan Conclude Five Years of Teamwork on STEM, Sustainability](#) - artigo há 2 dias\n",
            "### 5 min de leitura\n",
            "- [What’s Up: November 2024 Skywatching Tips from NASA](#) - artigo há 5 dias\n",
            "\n",
            "## Missões\n",
            "- Pesquisar Todas as Missões da NASA\n",
            "- Lista de Missões de A a Z\n",
            "- Lançamentos e Aterrissagens Futuros\n",
            "- Naves Espaciais e Foguetes\n",
            "- Comunicação com Missões\n",
            "\n",
            "## Vida no Espaço\n",
            "- Por que Ir ao Espaço\n",
            "- Astronautas\n",
            "- Destinos Espaciais Comerciais\n",
            "- Naves Espaciais e Foguetes\n",
            "- Vivendo no Espaço\n",
            "\n",
            "## Terra e Clima\n",
            "- Explorar a Ciência da Terra\n",
            "- Mudanças Climáticas\n",
            "- Terra, Nosso Planeta\n",
            "- Ciência da Terra em Ação\n",
            "- Dados da Terra\n",
            "- Pesquisadores de Ciência da Terra\n",
            "\n",
            "## O Sistema Solar\n",
            "- O Sol\n",
            "- Mercúrio\n",
            "- Vênus\n",
            "- Terra\n",
            "- A Lua\n",
            "- Marte\n",
            "- Júpiter\n",
            "- Saturno\n",
            "- Urano\n",
            "- Netuno\n",
            "- Plutão e Planetas Anões\n",
            "- Asteroides, Cometas e Meteoros\n",
            "- O Cinturão de Kuiper\n",
            "- A Nuvem de Oort\n",
            "- Observação do Céu\n",
            "\n",
            "## O Universo\n",
            "- Exoplanetas\n",
            "- A Busca por Vida no Universo\n",
            "- Estrelas\n",
            "- Galáxias\n",
            "- Buracos Negros\n",
            "- O Big Bang\n",
            "- Energia Escura e Matéria Escura\n",
            "\n",
            "## Ciência\n",
            "- Ciência da Terra\n",
            "- Ciência Planetária\n",
            "- Astrofísica e Ciência Espacial\n",
            "- O Sol e Heliofísica\n",
            "- Ciências Biológicas e Físicas\n",
            "- Ciência Lunar\n",
            "- Ciência Cidadã\n",
            "- Astromateriais\n",
            "\n",
            "## Aeronáutica\n",
            "- Pesquisa em Aeronáutica\n",
            "- Viagens Espaciais Humanas\n",
            "- Ciência Aeronáutica no Ar\n",
            "- Inovação em Voo\n",
            "- Soluções de Tráfego Aéreo\n",
            "- Tecnologias de Aviação Verde\n",
            "- Drones e Você\n",
            "\n",
            "## Tecnologia\n",
            "- Transferência de Tecnologia e Spin-offs\n",
            "- Tecnologia de Viagem Espacial\n",
            "- Tecnologia de Vida no Espaço\n",
            "- Fabricação e Materiais\n",
            "- Robótica\n",
            "- Instrumentos Científicos\n",
            "- Computação\n",
            "\n",
            "## Recursos de Aprendizagem\n",
            "- Para Crianças e Estudantes\n",
            "- Para Educadores\n",
            "- Para Faculdades e Universidades\n",
            "- Para Profissionais\n",
            "- Ciência para Todos\n",
            "- Solicitações para Exposições, Artefatos ou Palestrantes\n",
            "- Engajamento STEM na NASA\n",
            "\n",
            "## Sobre a NASA\n",
            "- Impactos da NASA\n",
            "- Centros e Instalações\n",
            "- Diretorias\n",
            "- Organizações\n",
            "- Pessoas da NASA\n",
            "- Carreiras\n",
            "- Estágios\n",
            "- Nossa História\n",
            "- Negócios com a NASA\n",
            "- Fique Envolvido\n",
            "- Contato com a NASA\n",
            "\n",
            "## Mês da Herança Nativa Americana\n",
            "- Cada novembro, a NASA comemora o Mês Nacional da Herança Nativa Americana celebrando as tradições, idiomas, histórias e culturas dos povos indígenas.\n",
            "\n",
            "## Assine\n",
            "- Explore o Universo a partir da sua Caixa de Entrada\n",
            "- Fique por dentro das últimas notícias da NASA - da Terra à Lua, o Sistema Solar e além.\n",
            "\n",
            "**Nota:** Nunca compartilharemos seu endereço de e-mail. Política de Privacidade.\n",
            "\n",
            "## NASA\n",
            "A NASA explora o desconhecido no ar e no espaço, inova para o benefício da humanidade e inspira o mundo por meio da descoberta.\n"
          ]
        }
      ]
    }
  ]
}